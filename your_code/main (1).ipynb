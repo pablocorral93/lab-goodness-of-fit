{
  "cells": [
    {
      "cell_type": "markdown",
      "metadata": {
        "id": "GAP2x6oTp6bq"
      },
      "source": [
        "## Question 1\n",
        "The following table indicates the number of 6-point scores in an American rugby match in the 1979 season.\n",
        "\n",
        "![](table1.png)\n",
        "\n",
        "Based on these results, we create a Poisson distribution with the sample mean parameter  = 2.435. Is there any reason to believe that at a .05 level the number of scores is a Poisson variable?\n",
        "Check [here](https://www.geeksforgeeks.org/how-to-create-a-poisson-probability-mass-function-plot-in-python/) how to create a poisson distribution and how to calculate the expected observations, using the probability mass function (pmf).\n",
        "A Poisson distribution is a discrete probability distribution. It gives the probability of an event happening a certain number of times (k) within a given interval of time or space. The Poisson distribution has only one parameter, λ (lambda), which is the mean number of events."
      ]
    },
    {
      "cell_type": "code",
      "execution_count": 8,
      "metadata": {
        "colab": {
          "base_uri": "https://localhost:8080/"
        },
        "id": "q2Gw6bump6by",
        "outputId": "3b331bd1-637c-4a6f-82ef-c61fdf540fe4"
      },
      "outputs": [
        {
          "output_type": "stream",
          "name": "stdout",
          "text": [
            "Chi-square statistic: 60.705304039223186\n",
            "P-value: 6.855625416815627e-09\n"
          ]
        }
      ],
      "source": [
        "# your answer here\n",
        "\n",
        "import numpy as np\n",
        "from scipy.stats import poisson, chisquare\n",
        "\n",
        "# Observed frequencies\n",
        "observed_scores = np.array([35, 99, 104, 110, 62, 25, 10, 3, 1, 0, 0, 1])\n",
        "\n",
        "# Sample mean parameter for the Poisson distribution\n",
        "lambda_value = 2.435\n",
        "\n",
        "# Calculate expected frequencies from a Poisson distribution\n",
        "expected_scores = poisson.pmf(np.arange(len(observed_scores)), lambda_value) * sum(observed_scores)\n",
        "\n",
        "# Scale expected frequencies to match the sum of observed frequencies\n",
        "scaling_factor = sum(observed_scores) / sum(expected_scores)\n",
        "expected_scores *= scaling_factor\n",
        "\n",
        "# Perform the chi-square goodness-of-fit test\n",
        "chi2_statistic, p_value = chisquare(observed_scores, expected_scores)\n",
        "\n",
        "# Display the results\n",
        "print(f\"Chi-square statistic: {chi2_statistic}\")\n",
        "print(f\"P-value: {p_value}\")\n",
        "\n"
      ]
    },
    {
      "cell_type": "code",
      "source": [
        "\"\"\"Based on the p-value being less than 0.05, you have reason to reject the hypothesis that the number of scores follows a Poisson distribution at a 0.05 significance level.\"\"\""
      ],
      "metadata": {
        "id": "RN3sT3kQ0fBG"
      },
      "execution_count": null,
      "outputs": []
    },
    {
      "cell_type": "markdown",
      "metadata": {
        "id": "10T3ky_Up6b0"
      },
      "source": [
        "## Question 2\n",
        "A researcher gathers information about the patterns of Physical Activity of children in the fifth grade of primary school of a public school. He defines three categories of physical activity (Low, Medium, High). He also inquires about the regular consumption of sugary drinks at school, and defines two categories (Yes = consumed, No = not consumed). We would like to evaluate if there is an association between patterns of physical activity and the consumption of sugary drinks for the children of this school, at a level of 5% significance. The results are in the following table:\n",
        "\n",
        "![](table4.png)"
      ]
    },
    {
      "cell_type": "code",
      "execution_count": 10,
      "metadata": {
        "colab": {
          "base_uri": "https://localhost:8080/"
        },
        "id": "9gNgrOuQp6b1",
        "outputId": "430ad97b-f12b-436b-9aaf-86a04b01396a"
      },
      "outputs": [
        {
          "output_type": "stream",
          "name": "stdout",
          "text": [
            "Chi-square statistic: 10.712198008709638\n",
            "P-value: 0.004719280137040844\n",
            "Degrees of freedom: 2\n",
            "Expected frequencies:\n",
            "[[24.08421053 19.91578947]\n",
            " [19.70526316 16.29473684]\n",
            " [ 8.21052632  6.78947368]]\n"
          ]
        }
      ],
      "source": [
        "#your answer here\n",
        "\n",
        "import numpy as np\n",
        "from scipy.stats import chi2_contingency\n",
        "\n",
        "# Create the observed frequency table\n",
        "observed = np.array([[32, 12], [14, 22], [6, 9]])\n",
        "\n",
        "# Perform the chi-square test\n",
        "chi2_stat, p_value, dof, expected = chi2_contingency(observed)\n",
        "\n",
        "# Display the results\n",
        "print(f\"Chi-square statistic: {chi2_stat}\")\n",
        "print(f\"P-value: {p_value}\")\n",
        "print(f\"Degrees of freedom: {dof}\")\n",
        "print(\"Expected frequencies:\")\n",
        "print(expected)\n",
        "\n"
      ]
    },
    {
      "cell_type": "code",
      "source": [],
      "metadata": {
        "id": "iZS4D6nZJ-ER"
      },
      "execution_count": null,
      "outputs": []
    }
  ],
  "metadata": {
    "kernelspec": {
      "display_name": "Python 3",
      "language": "python",
      "name": "python3"
    },
    "language_info": {
      "codemirror_mode": {
        "name": "ipython",
        "version": 3
      },
      "file_extension": ".py",
      "mimetype": "text/x-python",
      "name": "python",
      "nbconvert_exporter": "python",
      "pygments_lexer": "ipython3",
      "version": "3.8.3"
    },
    "colab": {
      "provenance": []
    }
  },
  "nbformat": 4,
  "nbformat_minor": 0
}